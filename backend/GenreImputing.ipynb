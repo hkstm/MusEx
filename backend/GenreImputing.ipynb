{
 "cells": [
  {
   "cell_type": "code",
   "execution_count": null,
   "metadata": {},
   "outputs": [],
   "source": [
    "%load_ext autoreload\n",
    "%autoreload 2\n",
    "from infovis21.datamodel.Track import Track\n",
    "from infovis21.datamodel.User import User\n",
    "from infovis21.mongodb import MongoAccess as ma\n",
    "import pandas as pd\n",
    "import numpy as np\n",
    "import matplotlib.pyplot as plt\n",
    "from pprint import pprint"
   ]
  },
  {
   "cell_type": "code",
   "execution_count": null,
   "metadata": {},
   "outputs": [],
   "source": [
    "# I know the without is a bit redundant as we could just use the total size of the collection which would be faster but it's also a sanity check for the edge case values of genres\n",
    "\n",
    "pipeline_with_genre = [\n",
    "    {'$set': {'n_of_genres': {'$size' : {'$ifNull': [ \"$genres\", [] ]}} } },\n",
    "    {'$match': {'n_of_genres': {'$gt': 0}}}\n",
    "]\n",
    "res_with_genre = list(ma.coll_artists.aggregate(pipeline_with_genre))\n",
    "print(f'With genre info in artists {len(res_with_genre)}')\n",
    "\n",
    "pipeline_without_genre = [\n",
    "    {'$set': {'n_of_genres': {'$size' : {'$ifNull': [ \"$genres\", [] ]}} } },\n",
    "    {'$match': {'n_of_genres': {'$eq': 0}}}\n",
    "]\n",
    "res_without_genre = list(ma.coll_artists.aggregate(pipeline_without_genre))\n",
    "print(f'Without genre info in artists {len(res_without_genre)}')\n",
    "\n",
    "res_with_genre = list(ma.coll_tracks.aggregate(pipeline_with_genre))\n",
    "print(f'With genre info in tracks {len(res_with_genre)}')\n",
    "res_without_genre = list(ma.coll_tracks.aggregate(pipeline_without_genre))\n",
    "print(f'Without genre info in tracks {len(res_without_genre)}')"
   ]
  },
  {
   "cell_type": "code",
   "execution_count": null,
   "metadata": {},
   "outputs": [],
   "source": [
    "pipeline = [\n",
    "    {'$unwind' : '$genres'},\n",
    "    { '$unset': ['_id'] },\n",
    "]\n",
    "features = [  \n",
    "    \"danceability\",\n",
    "    \"duration_ms\",\n",
    "    \"energy\",\n",
    "    \"instrumentalness\",\n",
    "    \"liveness\",\n",
    "    \"loudness\",\n",
    "    \"speechiness\",\n",
    "    \"tempo\",\n",
    "    \"valence\",\n",
    "    \"popularity\",\n",
    "    \"key\",\n",
    "    \"mode\",\n",
    "    \"acousticness\",\n",
    "    'explicit',\n",
    "    'year',\n",
    "  ]\n",
    "target = ['genres']\n",
    "df_artists = pd.DataFrame(ma.coll_artists.aggregate(pipeline))"
   ]
  },
  {
   "cell_type": "code",
   "execution_count": null,
   "metadata": {},
   "outputs": [],
   "source": [
    "# from sklearn.ensemble import GradientBoostingClassifier\n",
    "# from sklearn.model_selection import train_test_split\n",
    "# from sklearn.preprocessing import StandardScaler\n",
    "# from sklearn.pipeline import Pipeline\n",
    "\n",
    "# X, y = make_classification(random_state=0)\n",
    "# X_train, X_test, y_train, y_test = train_test_split(df_artists[features].values, df_artists[target].values.squeeze())\n",
    "# pipe = Pipeline([('scaler', StandardScaler()), ('GBC', GradientBoostingClassifier())])\n",
    "# pipe.fit(X_train, y_train)\n",
    "# pipe.score(X_test, y_test)"
   ]
  },
  {
   "cell_type": "code",
   "execution_count": null,
   "metadata": {},
   "outputs": [],
   "source": [
    "# pipe.score(X_test, y_test)"
   ]
  },
  {
   "cell_type": "code",
   "execution_count": null,
   "metadata": {
    "pycharm": {
     "name": "#%%\n"
    }
   },
   "outputs": [],
   "source": [
    "### a big share of artists don't have a genre associated with them in the data_w_genres.csv file\n",
    "\n",
    "d_i = df_artists"
   ]
  },
  {
   "cell_type": "code",
   "execution_count": null,
   "outputs": [],
   "source": [
    "# from sklearn.preprocessing import OrdinalEncoder\n",
    "from sklearn.preprocessing import LabelEncoder\n",
    "\n",
    "enc = LabelEncoder()\n",
    "d_i['genres'] = enc.fit_transform(d_i.genres)"
   ],
   "metadata": {
    "collapsed": false,
    "pycharm": {
     "name": "#%%\n"
    }
   }
  },
  {
   "cell_type": "code",
   "execution_count": null,
   "outputs": [],
   "source": [
    "# replace missing genre label with NaN\n",
    "d_i.genres = d_i.genres.replace(10840, np.NaN)\n",
    "\n",
    "# drop strings for imputation\n",
    "d_i = d_i.drop(['artists', 'popularity', ],axis=1)"
   ],
   "metadata": {
    "collapsed": false,
    "pycharm": {
     "name": "#%%\n"
    }
   }
  },
  {
   "cell_type": "code",
   "execution_count": null,
   "outputs": [],
   "source": [
    "## imputation\n",
    "from sklearn.impute import KNNImputer\n",
    "\n",
    "imputer = KNNImputer(n_neighbors=5)\n",
    "\n",
    "# dataframe_new = pd.DataFrame(imputer.fit_transform(dataframe))\n",
    "d_i = pd.DataFrame(imputer.fit_transform(d_i), columns = d_i.columns)"
   ],
   "metadata": {
    "collapsed": false,
    "pycharm": {
     "name": "#%%\n"
    }
   }
  },
  {
   "cell_type": "code",
   "execution_count": null,
   "outputs": [],
   "source": [
    "# after imputation, values are floats, to be recognised by encoder, we have to revert it to int\n",
    "\n",
    "d_i.genres = d_i.genres.astype(int)\n",
    "\n",
    "# to add cat values artists and popularity back in\n",
    "\n",
    "d_i = pd.concat([d_i, df_artists.artists, df_artists.popularity], axis=1)"
   ],
   "metadata": {
    "collapsed": false,
    "pycharm": {
     "name": "#%%\n"
    }
   }
  },
  {
   "cell_type": "code",
   "execution_count": null,
   "outputs": [],
   "source": [
    "# associate label with genre again\n",
    "\n",
    "d_i.genres = enc.inverse_transform(d_i.genres)\n",
    "\n",
    "# d_i.genres.head()"
   ],
   "metadata": {
    "collapsed": false,
    "pycharm": {
     "name": "#%%\n"
    }
   }
  }
 ],
 "metadata": {
  "kernelspec": {
   "display_name": "Python 3",
   "language": "python",
   "name": "python3"
  },
  "language_info": {
   "codemirror_mode": {
    "name": "ipython",
    "version": 3
   },
   "file_extension": ".py",
   "mimetype": "text/x-python",
   "name": "python",
   "nbconvert_exporter": "python",
   "pygments_lexer": "ipython3",
   "version": "3.7.4"
  }
 },
 "nbformat": 4,
 "nbformat_minor": 2
}