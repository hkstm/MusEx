{
 "metadata": {
  "language_info": {
   "codemirror_mode": {
    "name": "ipython",
    "version": 3
   },
   "file_extension": ".py",
   "mimetype": "text/x-python",
   "name": "python",
   "nbconvert_exporter": "python",
   "pygments_lexer": "ipython3",
   "version": "3.8.5-final"
  },
  "orig_nbformat": 2,
  "kernelspec": {
   "name": "other-env2",
   "display_name": "Python (other-env2)",
   "language": "python"
  }
 },
 "nbformat": 4,
 "nbformat_minor": 2,
 "cells": [
  {
   "cell_type": "code",
   "execution_count": null,
   "metadata": {},
   "outputs": [],
   "source": [
    "%load_ext autoreload\n",
    "%autoreload 2\n",
    "from datamodel.Track import Track\n",
    "from datamodel.User import User\n",
    "from mongodb import MongoAccess\n",
    "from mongodb.CollName import CollName\n",
    "import pandas as pd\n",
    "import numpy as np\n",
    "import matplotlib.pyplot as plt\n",
    "import seaborn as sns\n",
    "from datetime import datetime\n",
    "from pprint import pprint\n",
    "\n",
    "# MongoAccess.load_kaggle_csvs_into_mongodb()\n",
    "\n",
    "df_genres = pd.DataFrame(MongoAccess.get_collection(CollName.GENRES))\n",
    "df_years = pd.DataFrame(MongoAccess.get_collection(CollName.YEARS))\n",
    "df_tracks = pd.DataFrame(MongoAccess.get_collection(CollName.TRACKS))\n",
    "df_artists = pd.DataFrame(MongoAccess.get_collection(CollName.ARTISTS))\n",
    "\n",
    "a_track_id = '3jW3k9jZRHNZfpDxpbAsbn'\n",
    "\n",
    "def retrieve_track_attr_dict(id=None):\n",
    "    if not id: row = df_tracks.sample(1).iloc[0]\n",
    "    else: row = df_tracks.loc[df_tracks['_id'] == id].iloc[0]  # removed duplicates so there is only 1 match\n",
    "    return row.to_dict()"
   ]
  },
  {
   "cell_type": "code",
   "execution_count": null,
   "metadata": {},
   "outputs": [],
   "source": [
    "a_user = User()\n",
    "print(a_user.get_optimal_track_pref())\n",
    "a_user.update_track_attr_log(Track(retrieve_track_attr_dict()))\n",
    "print(a_user.get_optimal_track_pref())\n",
    "a_user.update_track_attr_log(Track(retrieve_track_attr_dict()))\n",
    "print(a_user.get_optimal_track_pref())\n",
    "a_user.update_track_attr_log(Track(retrieve_track_attr_dict()))\n",
    "print(a_user.get_optimal_track_pref())\n",
    "\n",
    "df_tracks.head()"
   ]
  },
  {
   "cell_type": "code",
   "execution_count": null,
   "metadata": {},
   "outputs": [],
   "source": [
    "# can use lists of names/ids\n",
    "pprint(MongoAccess.get_tracks_by_ids(['0hbkKFIJm7Z05H8Zl9w30f', a_track_id]))\n",
    "# or single name/id\n",
    "pprint(MongoAccess.get_tracks_by_names(\"Don't You Advertise Your Man\"))"
   ]
  },
  {
   "cell_type": "code",
   "execution_count": null,
   "metadata": {},
   "outputs": [],
   "source": []
  }
 ]
}