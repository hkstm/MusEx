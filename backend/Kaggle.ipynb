{
 "metadata": {
  "language_info": {
   "codemirror_mode": {
    "name": "ipython",
    "version": 3
   },
   "file_extension": ".py",
   "mimetype": "text/x-python",
   "name": "python",
   "nbconvert_exporter": "python",
   "pygments_lexer": "ipython3",
   "version": "3.8.5"
  },
  "orig_nbformat": 2,
  "kernelspec": {
   "name": "python3",
   "display_name": "Python 3.8.5 64-bit ('backend-0kt59ZRS': pipenv)",
   "metadata": {
    "interpreter": {
     "hash": "d49cd5ea0b8ec6924f02f02e6e570e04251f560d7ab4f014f19c988041d2351e"
    }
   }
  }
 },
 "nbformat": 4,
 "nbformat_minor": 2,
 "cells": [
  {
   "cell_type": "code",
   "execution_count": null,
   "metadata": {},
   "outputs": [],
   "source": [
    "%load_ext autoreload\n",
    "%autoreload 2\n",
    "from datamodel.Track import Track\n",
    "from datamodel.User import User\n",
    "from mongodb import MongoAccess as ma\n",
    "import pandas as pd\n",
    "import numpy as np\n",
    "import matplotlib.pyplot as plt\n",
    "import seaborn as sns\n",
    "from datetime import datetime\n",
    "from pprint import pprint\n",
    "\n",
    "# MongoAccess.load_kaggle_csvs_into_mongodb()\n",
    "\n",
    "df_genres = pd.DataFrame(ma.get_collection(ma.coll_genres))\n",
    "df_years = pd.DataFrame(ma.get_collection(ma.coll_years))\n",
    "df_tracks = pd.DataFrame(ma.get_collection(ma.coll_tracks))\n",
    "df_artists = pd.DataFrame(ma.get_collection(ma.coll_artists))\n",
    "\n",
    "a_track_id = '3jW3k9jZRHNZfpDxpbAsbn'\n",
    "\n",
    "def retrieve_track_attr_dict(id=None):\n",
    "    if not id: row = df_tracks.sample(1).iloc[0]\n",
    "    else: row = df_tracks.loc[df_tracks['_id'] == id].iloc[0]  # removed duplicates so there is only 1 match\n",
    "    return row.to_dict()"
   ]
  },
  {
   "cell_type": "code",
   "execution_count": null,
   "metadata": {},
   "outputs": [],
   "source": [
    "a_user = User()\n",
    "print(a_user.get_optimal_track_pref())\n",
    "a_user.update_track_attr_log(Track(retrieve_track_attr_dict()))\n",
    "print(a_user.get_optimal_track_pref())\n",
    "a_user.update_track_attr_log(Track(retrieve_track_attr_dict()))\n",
    "print(a_user.get_optimal_track_pref())\n",
    "a_user.update_track_attr_log(Track(retrieve_track_attr_dict()))\n",
    "print(a_user.get_optimal_track_pref())\n",
    "df_tracks.head()"
   ]
  },
  {
   "cell_type": "code",
   "execution_count": null,
   "metadata": {},
   "outputs": [],
   "source": [
    "# can use lists of names/ids\n",
    "pprint(ma.get_tracks_by_ids(['0hbkKFIJm7Z05H8Zl9w30f', a_track_id]))\n",
    "# or single name/id\n",
    "pprint(ma.get_tracks_by_names(\"Don't You Advertise Your Man\"))"
   ]
  },
  {
   "cell_type": "code",
   "execution_count": null,
   "metadata": {},
   "outputs": [],
   "source": [
    "pipeline = [\n",
    "    { '$limit' : 10},\n",
    "]\n",
    "res = list(ma.coll_tracks.aggregate(list(pipeline)))\n",
    "pprint(res)"
   ]
  },
  {
   "cell_type": "code",
   "execution_count": null,
   "metadata": {},
   "outputs": [],
   "source": [
    "import dotenv\n",
    "# i'm using a .env file with the following information for the following part to work, not sure if you need all this info but I had it from another spotify project I am working on \n",
    "# SPOTIPY_CLIENT_ID=xxxxxxxxxxxxxxxxxxxxxxxxxxxxxxxxx\n",
    "# SPOTIPY_CLIENT_SECRET=yyyyyyyyyyyyyyyyyyyyyyyyyyyyyyy\n",
    "# SPOTIPY_REDIRECT_URI=http://sdfsdfsdfsd:8080\n",
    "# https://developer.spotify.com/documentation/general/guides/app-settings/\n",
    "dotenv.load_dotenv()\n",
    "\n",
    "import spotipy\n",
    "from spotipy.oauth2 import SpotifyClientCredentials, SpotifyOAuth\n",
    "\n",
    "sp = spotipy.Spotify(auth_manager=SpotifyOAuth())\n"
   ]
  },
  {
   "cell_type": "code",
   "execution_count": null,
   "metadata": {},
   "outputs": [],
   "source": [
    "# not done yet will be used to be able to get all tracks from a certain genre\n",
    "\n",
    "album = sp.album(sp.track('spotify:track:6BL4PpswVjH9BAajbIbpmZ')['album']['uri'])\n",
    "genres = []\n",
    "if len(album['genres']) == 0: # spotify doesn't actually have genres on track/album level https://github.com/spotify/web-api/issues/157\n",
    "    for artist in album['artists']:\n",
    "        for genre in sp.artist(artist['uri'])['genres']:\n",
    "            genres.append(genre)\n",
    "else:\n",
    "    for genre in album['genres']:\n",
    "        genres.append(genre)\n",
    "\n",
    "genre_set = set(genres)\n",
    "genre_set"
   ]
  },
  {
   "cell_type": "code",
   "execution_count": null,
   "metadata": {},
   "outputs": [],
   "source": [
    "# creates the album collection\n",
    "\n",
    "# def get_album_data(album_id):\n",
    "#     album = sp.album(album_id)\n",
    "#     results = album['tracks'] \n",
    "#     while results['next']: # if doc right would only happen if album contains more than a 100 songs, which is never according to my googling\n",
    "#         results = sp.next(results)\n",
    "#         album['tracks']['items'].extend(results['items'])\n",
    "        \n",
    "#     # there is some info in the album that we do not need as we have seperate track and artist collections\n",
    "#     album_bare = dict()\n",
    "#     for key in ['id', 'album_type', 'genres', 'label', 'name', 'popularity', 'release_date', 'release_date_precision', 'total_tracks', 'type']:\n",
    "#         album_bare[key] = album[key]\n",
    "#     album_bare['artists'] = [{'id':artist['id']} for artist in album['artists']]\n",
    "#     album_bare['tracks'] = [{'id':track['id']} for track in album['tracks']['items']]\n",
    "#     return album_bare\n",
    "\n",
    "# album_list = []\n",
    "# for track in all_tracks:\n",
    "#     album_id = sp.track(track['id'])['album']['id']\n",
    "#     ma.coll_tracks.update_one({'_id': track['_id']}, {'$set': {'album_id': album_id}})\n",
    "#     album_list.append(album_id)\n",
    "\n",
    "# album_data_list = [get_album_data(album_id) for album_id in set(album_list)]\n",
    "# ma.coll_albums.insert_many(album_data_list)"
   ]
  }
 ]
}