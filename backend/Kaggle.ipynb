{
 "metadata": {
  "language_info": {
   "codemirror_mode": {
    "name": "ipython",
    "version": 3
   },
   "file_extension": ".py",
   "mimetype": "text/x-python",
   "name": "python",
   "nbconvert_exporter": "python",
   "pygments_lexer": "ipython3",
   "version": "3.8.5-final"
  },
  "orig_nbformat": 2,
  "kernelspec": {
   "name": "other-env2",
   "display_name": "Python (other-env2)",
   "language": "python"
  }
 },
 "nbformat": 4,
 "nbformat_minor": 2,
 "cells": [
  {
   "cell_type": "code",
   "execution_count": null,
   "metadata": {},
   "outputs": [],
   "source": [
    "%load_ext autoreload\n",
    "%autoreload 2\n",
    "from datamodel.Track import Track\n",
    "from datamodel.User import User\n",
    "from mongodb import MongoAccess as ma\n",
    "import pandas as pd\n",
    "import numpy as np\n",
    "import matplotlib.pyplot as plt\n",
    "import seaborn as sns\n",
    "from datetime import datetime\n",
    "from pprint import pprint\n",
    "\n",
    "# ma.load_kaggle_csvs_into_mongodb()\n",
    "\n",
    "df_genres = pd.DataFrame(ma.get_collection(ma.coll_genres))\n",
    "df_years = pd.DataFrame(ma.get_collection(ma.coll_years))\n",
    "df_tracks = pd.DataFrame(ma.get_collection(ma.coll_tracks))\n",
    "df_artists = pd.DataFrame(ma.get_collection(ma.coll_artists))\n",
    "df_albums = pd.DataFrame(ma.get_collection(ma.coll_albums))\n",
    "\n",
    "a_track_id = '3jW3k9jZRHNZfpDxpbAsbn'\n",
    "\n",
    "def retrieve_track_attr_dict(id=None):\n",
    "    if not id: row = df_tracks.sample(1).iloc[0]\n",
    "    else: row = df_tracks.loc[df_tracks['_id'] == id].iloc[0]  # removed duplicates so there is only 1 match\n",
    "    return row.to_dict()"
   ]
  },
  {
   "source": [
    "Example usage of MongoAccess (ma)"
   ],
   "cell_type": "markdown",
   "metadata": {}
  },
  {
   "cell_type": "code",
   "execution_count": null,
   "metadata": {},
   "outputs": [],
   "source": [
    "# can use lists of names/ids\n",
    "pprint(ma.get_tracks_by_ids(['0hbkKFIJm7Z05H8Zl9w30f']))\n",
    "# or single name/id\n",
    "pprint(ma.get_tracks_by_names(\"Don't You Advertise Your Man\"))\n",
    "# or genre\n",
    "pprint(ma.get_tracks_by_genres('rock', limit=3))\n",
    "# or label\n",
    "pprint(ma.get_tracks_by_labels(['Columbia/Legacy'], limit=3))"
   ]
  },
  {
   "cell_type": "code",
   "execution_count": null,
   "metadata": {},
   "outputs": [],
   "source": [
    "# filtering on numeric fields ['acousticness', 'danceability', 'duration_ms', 'energy', 'explicit', 'instrumentalness', 'key', 'liveness', 'loudness', 'mode', 'popularity', 'speechiness', 'tempo', 'valence', 'year']\n",
    "\n",
    "a_filter = [\n",
    "    { '$match': {\n",
    "        '$and': [\n",
    "            { 'tempo': {'$gt': 70, '$lt': 120 } },\n",
    "            { 'popularity': { '$gte': 10 } } ,\n",
    "            { 'year': { '$gte': 1970 } } ,\n",
    "        ] \n",
    "    } },\n",
    "]\n",
    "\n",
    "another_filter = [\n",
    "    { '$match': {\n",
    "        '$or': [\n",
    "            { 'danceability': {'$gt': 70} },\n",
    "            { 'key': { '$eq': 5 } } ,\n",
    "        ] \n",
    "    } },\n",
    "]\n",
    "# you can write your own custom filter/pipeline with other stages besides match, check MongoAccess.py\n",
    "pprint(ma.get_tracks_by_filter(a_filter, limit=3))\n",
    "\n",
    "# can also be chained\n",
    "pprint(ma.get_tracks_by_genres(['soul', 'permanent wave'], another_filter, limit=3))"
   ]
  },
  {
   "source": [
    "User recommendation/similarity testing (wip)"
   ],
   "cell_type": "markdown",
   "metadata": {}
  },
  {
   "cell_type": "code",
   "execution_count": null,
   "metadata": {
    "tags": []
   },
   "outputs": [],
   "source": [
    "a_user = User()\n",
    "print(a_user.get_optimal_track_pref())\n",
    "a_user.update_track_attr_log(Track(retrieve_track_attr_dict()))\n",
    "print(a_user.get_optimal_track_pref())\n",
    "a_user.update_track_attr_log(Track(retrieve_track_attr_dict()))\n",
    "print(a_user.get_optimal_track_pref())\n",
    "df_tracks.head()"
   ]
  },
  {
   "source": [
    "Below this point there is some stuff that might be useful in the future but is/should not be actively used right now"
   ],
   "cell_type": "markdown",
   "metadata": {}
  },
  {
   "cell_type": "code",
   "execution_count": null,
   "metadata": {},
   "outputs": [],
   "source": [
    "import dotenv\n",
    "# i'm using a .env file with the following information for the following part to work, not sure if you need all this info but I had it from another spotify project I am working on \n",
    "# SPOTIPY_CLIENT_ID=xxxxxxxxxxxxxxxxxxxxxxxxxxxxxxxxx\n",
    "# SPOTIPY_CLIENT_SECRET=yyyyyyyyyyyyyyyyyyyyyyyyyyyyyyy\n",
    "# SPOTIPY_REDIRECT_URI=http://sdfsdfsdfsd:8080\n",
    "# https://developer.spotify.com/documentation/general/guides/app-settings/\n",
    "dotenv.load_dotenv()\n",
    "\n",
    "import spotipy\n",
    "from spotipy.oauth2 import SpotifyClientCredentials, SpotifyOAuth\n",
    "\n",
    "sp = spotipy.Spotify(auth_manager=SpotifyOAuth())\n"
   ]
  },
  {
   "cell_type": "code",
   "execution_count": null,
   "metadata": {
    "tags": []
   },
   "outputs": [],
   "source": [
    "pprint(sp.album('13CyNzgjCGZWFFxnhNFlYu')['genres'])"
   ]
  },
  {
   "source": [
    "Apparently artists dont have an id, names **seem** to be unique and to map 1 to 1 between the tracks and artists (e.g. not two artists that use the same name) collection except the track collection having 12 tracks with artist 'n/a'. Just deleted those and assuming that we can just use names as ids as there are no duplicate names in the artists collection. Does mean that the ids I added to the albums collection are kinda moot."
   ],
   "cell_type": "markdown",
   "metadata": {}
  },
  {
   "cell_type": "code",
   "execution_count": null,
   "metadata": {},
   "outputs": [],
   "source": [
    "# this can be adapted if a field is a literal string instead of for example a json list\n",
    "\n",
    "# pipeline = [\n",
    "#     { '$project': {'genres':1, '_id': 1}},\n",
    "# ]\n",
    "# for doc in list(ma.coll_artists.aggregate(list(pipeline))):\n",
    "#     ma.coll_artists.update_one({'_id': doc['_id']}, {'$set': {'genres': ast.literal_eval(doc['genres'])}})"
   ]
  },
  {
   "cell_type": "code",
   "execution_count": null,
   "metadata": {
    "tags": []
   },
   "outputs": [],
   "source": [
    "# not done yet will be used to be able to get all tracks from a certain genre\n",
    "# spotify doesn't actually have genres on track/album level https://github.com/spotify/web-api/issues/157\n",
    "genres = ['blues']\n",
    "pipeline = [\n",
    "    # { '$limit' : 100},\n",
    "    { '$project': {'album_id': 1, 'id': 1}},\n",
    "\n",
    "    # useless as long as there are no genres in album collection\n",
    "\n",
    "    # { '$lookup':\n",
    "    #     {\n",
    "    #         'from': 'albums',\n",
    "    #         'let': { 'album_id': \"$album_id\"},\n",
    "    #         'pipeline': [\n",
    "    #             {'$match' : {'$id': '$$album_id'}},\n",
    "    #             {'$project': {'genres': 1}}\n",
    "    #         ],\n",
    "    #         # 'localField': 'album_id',\n",
    "    #         # 'foreignField': 'id',\n",
    "    #         'as': 'albums_docs'\n",
    "    #     }\n",
    "    # },\n",
    "    # { '$unwind': '$albums_docs'},\n",
    "    # { '$set': { 'genres_album': '$albums_docs.genres'}},\n",
    "    # { '$unset': 'albums_docs'},\n",
    "\n",
    "    ## { '$unwind': '$artists'}, # https://docs.mongodb.com/manual/reference/operator/aggregation/lookup/\n",
    "    # { '$lookup':\n",
    "    #     {\n",
    "    #         'from': 'artists',\n",
    "    #         'localField': 'artists',\n",
    "    #         'foreignField': 'artists',\n",
    "    #         'as': 'artists_docs'\n",
    "    #     }\n",
    "    # },\n",
    "    # { '$unwind': '$artists_docs'},\n",
    "    # { '$set': { 'genres_artists': '$artists_docs.genres'}},\n",
    "    # { '$unset': 'artists_docs'},\n",
    "    # { '$unwind': '$genres_artists'},\n",
    "    # { '$group': {\n",
    "    #     '_id' : '$id',\n",
    "    #     'genres': { '$addToSet':  \"$genres_artists\" },\n",
    "    # }},\n",
    "        { '$lookup':\n",
    "            {\n",
    "                'from': 'albums',\n",
    "                'localField': 'album_id',\n",
    "                'foreignField': 'id',\n",
    "                'as': 'albums_docs'\n",
    "            }\n",
    "        },\n",
    "        { '$unwind': '$albums_docs'},\n",
    "        { '$set': { 'album_label': '$albums_docs.label'}},\n",
    "        { '$unset': 'albums_docs'},\n",
    "        { '$group': {\n",
    "            '_id' : '$id',\n",
    "            'label': { '$addToSet':  \"$album_label\" },\n",
    "        }},\n",
    "    # { '$match': {'genres.genres_artists': {'$in': genres}} } \n",
    "    # { '$match': { '$or': [{'genres.genres_artists': {'$in': genres}}, {'genres.genres_album': {'$in': genres}}]} } \n",
    "]\n",
    "# pipeline = [\n",
    "#     { '$limit' : 10000},\n",
    "#     # { '$project': {'album_id': 1, 'artists': 1, 'id': 1}},\n",
    "#     { '$lookup':\n",
    "#         {\n",
    "#             'from': 'tracks',\n",
    "#             # 'let': { 'album_id': \"$album_id\"},\n",
    "#             # 'pipeline': [\n",
    "#             #     {'$match' : {'$id': '$$album_id'}},\n",
    "#             # ],\n",
    "#             'localField': 'id',\n",
    "#             'foreignField': 'album_id',\n",
    "#             'as': 'albums_docs'\n",
    "#         }\n",
    "#     },\n",
    "# ]\n",
    "# %timeit (list(ma.coll_albums.aggregate(pipeline)))\n",
    "# %timeit (list(ma.coll_tracks.aggregate(pipeline)))\n",
    "res = list(ma.coll_tracks.aggregate(pipeline))"
   ]
  },
  {
   "cell_type": "code",
   "execution_count": null,
   "metadata": {
    "tags": []
   },
   "outputs": [],
   "source": [
    "# ma.coll_tracks.update_one({'id': '3Q2tKt6gKdn9LUMcHFxNJy'}, {'$set': {'genres': ['lounge', 'adult standards', 'easy listening']}})\n",
    "# pprint(list(ma.coll_tracks.aggregate([{'$match': {'id': '3Q2tKt6gKdn9LUMcHFxNJy'}}])))\n",
    "# for doc in res:\n",
    "    # ma.coll_tracks.update_one({'id': doc['_id']}, {'$set': {'album_label': doc['label']}})"
   ]
  },
  {
   "cell_type": "code",
   "execution_count": null,
   "metadata": {},
   "outputs": [],
   "source": [
    "pipeline = [\n",
    "    {'$project': {'genres': 1}},\n",
    "]\n",
    "res = list(ma.coll_artists.aggregate(pipeline))\n",
    "cntr = 0\n",
    "for doc in res: cntr += len(doc['genres'])\n",
    "print(f'cntr: {cntr} genres found in artists collection')\n",
    "\n",
    "res = list(ma.coll_albums.aggregate(pipeline))\n",
    "cntr = 0\n",
    "for doc in res: cntr += len(doc['genres'])\n",
    "print(f'cntr: {cntr} genres found in albums collection')"
   ]
  },
  {
   "source": [
    "# creates the album collection\n",
    "\n",
    "# def get_album_data(album_id):\n",
    "#     album = sp.album(album_id)\n",
    "#     results = album['tracks'] \n",
    "#     while results['next']: # if doc right would only happen if album contains more than a 100 songs, which is never according to my googling\n",
    "#         results = sp.next(results)\n",
    "#         album['tracks']['items'].extend(results['items'])\n",
    "        \n",
    "#     # there is some info in the album that we do not need as we have seperate track and artist collections\n",
    "#     album_bare = dict()\n",
    "#     for key in ['id', 'album_type', 'genres', 'label', 'name', 'popularity', 'release_date', 'release_date_precision', 'total_tracks', 'type']:\n",
    "#         album_bare[key] = album[key]\n",
    "#     album_bare['artists'] = [{'id':artist['id']} for artist in album['artists']]\n",
    "#     album_bare['tracks'] = [{'id':track['id']} for track in album['tracks']['items']]\n",
    "#     return album_bare\n",
    "\n",
    "# album_list = []\n",
    "# for track in all_tracks:\n",
    "#     album_id = sp.track(track['id'])['album']['id']\n",
    "#     ma.coll_tracks.update_one({'_id': track['_id']}, {'$set': {'album_id': album_id}})\n",
    "#     album_list.append(album_id)\n",
    "\n",
    "# album_data_list = [get_album_data(album_id) for album_id in set(album_list)]\n",
    "# ma.coll_albums.insert_many(album_data_list)"
   ],
   "cell_type": "code",
   "metadata": {},
   "execution_count": null,
   "outputs": []
  }
 ]
}