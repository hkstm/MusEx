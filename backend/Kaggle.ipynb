{
 "metadata": {
  "language_info": {
   "codemirror_mode": {
    "name": "ipython",
    "version": 3
   },
   "file_extension": ".py",
   "mimetype": "text/x-python",
   "name": "python",
   "nbconvert_exporter": "python",
   "pygments_lexer": "ipython3",
   "version": "3.8.5-final"
  },
  "orig_nbformat": 2,
  "kernelspec": {
   "name": "other-env2",
   "display_name": "Python (other-env2)",
   "language": "python"
  }
 },
 "nbformat": 4,
 "nbformat_minor": 2,
 "cells": [
  {
   "cell_type": "code",
   "execution_count": 1,
   "metadata": {},
   "outputs": [],
   "source": [
    "import pandas as pd\n",
    "import numpy as np\n",
    "import matplotlib.pyplot as plt\n",
    "import seaborn as sns\n",
    "import ast\n",
    "from datetime import datetime\n",
    "csv_paths = [\n",
    "    '../data/kaggle/data_by_artist.csv',\n",
    "    '../data/kaggle/data_by_genres.csv',\n",
    "    '../data/kaggle/data_by_year.csv',\n",
    "    '../data/kaggle/data.csv',\n",
    "    '../data/kaggle/data_w_genres.csv',\n",
    "]\n",
    "df_list = [pd.read_csv(path) for path in csv_paths]\n",
    "a_track_id = '3jW3k9jZRHNZfpDxpbAsbn'"
   ]
  },
  {
   "cell_type": "code",
   "execution_count": 2,
   "metadata": {},
   "outputs": [
    {
     "output_type": "stream",
     "name": "stdout",
     "text": [
      "No. of duplicates \t0\tfor df0\n",
      "No. of duplicates \t0\tfor df1\n",
      "No. of duplicates \t0\tfor df2\n",
      "No. of duplicates \t2159\tfor df3\n",
      "No. of duplicates (id)\t2159\tfor df3\n",
      "No. of duplicates \t0\tfor df4\n"
     ]
    }
   ],
   "source": [
    "for i, df in enumerate(df_list):\n",
    "    print(f\"No. of duplicates \\t{len(df) - len(df.drop_duplicates())}\\tfor df{i}\")\n",
    "    if 'id' in df: print(f\"No. of duplicates (id)\\t{len(df) - len(df.drop_duplicates(subset=['id']))}\\tfor df{i}\")\n",
    "\n",
    "df_by_artist = df_list[0]\n",
    "df_by_genres = df_list[1]\n",
    "df_by_year = df_list[2]\n",
    "df_track = df_list[3].drop_duplicates(subset=['id'])  # Not a 100% sure why there are duplicates, can't be bothered to figure it out right now🙃\n",
    "df_track['artists'] = df_track['artists'].apply(lambda x: ast.literal_eval(x))  # Artists is supposed to be a list in this csv\n",
    "# handling edge cases pita just using year for now\n",
    "# df_track['release_date'] = df_track['release_date'].apply(lambda x: (datetime.strptime(x, \"%Y-%m-%d\") if len(x.split('-')) == 3 else datetime.strptime(x, \"%Y\")))\n",
    "df_w_genres = df_list[4]\n",
    "\n",
    "def retrieve_track_attr_dict(id=None):\n",
    "    if not id: row = df_track.sample(1).iloc[0]\n",
    "    else: row = df_track.loc[df_track['id'] == id].iloc[0]  # removed duplicates so there is only 1 match\n",
    "    return row.to_dict()"
   ]
  },
  {
   "cell_type": "code",
   "execution_count": 3,
   "metadata": {},
   "outputs": [
    {
     "output_type": "error",
     "ename": "ImportError",
     "evalue": "attempted relative import with no known parent package",
     "traceback": [
      "\u001b[0;31m---------------------------------------------------------------------------\u001b[0m",
      "\u001b[0;31mImportError\u001b[0m                               Traceback (most recent call last)",
      "\u001b[0;32m<ipython-input-3-56b908dca732>\u001b[0m in \u001b[0;36m<module>\u001b[0;34m\u001b[0m\n\u001b[0;32m----> 1\u001b[0;31m \u001b[0;32mfrom\u001b[0m \u001b[0;34m.\u001b[0m \u001b[0;32mimport\u001b[0m \u001b[0mTrack\u001b[0m\u001b[0;34m,\u001b[0m \u001b[0mUser\u001b[0m\u001b[0;34m\u001b[0m\u001b[0;34m\u001b[0m\u001b[0m\n\u001b[0m\u001b[1;32m      2\u001b[0m \u001b[0;34m\u001b[0m\u001b[0m\n\u001b[1;32m      3\u001b[0m \u001b[0;34m\u001b[0m\u001b[0m\n\u001b[1;32m      4\u001b[0m \u001b[0ma_user\u001b[0m \u001b[0;34m=\u001b[0m \u001b[0mUser\u001b[0m\u001b[0;34m(\u001b[0m\u001b[0;34m)\u001b[0m\u001b[0;34m\u001b[0m\u001b[0;34m\u001b[0m\u001b[0m\n\u001b[1;32m      5\u001b[0m \u001b[0mprint\u001b[0m\u001b[0;34m(\u001b[0m\u001b[0ma_user\u001b[0m\u001b[0;34m.\u001b[0m\u001b[0mget_optimal_track_pref\u001b[0m\u001b[0;34m(\u001b[0m\u001b[0;34m)\u001b[0m\u001b[0;34m)\u001b[0m\u001b[0;34m\u001b[0m\u001b[0;34m\u001b[0m\u001b[0m\n",
      "\u001b[0;31mImportError\u001b[0m: attempted relative import with no known parent package"
     ]
    }
   ],
   "source": [
    "import Track, User\n",
    "\n",
    "\n",
    "a_user = User()\n",
    "print(a_user.get_optimal_track_pref())\n",
    "a_user.update_track_attr_log(Track(retrieve_track_attr_dict()))\n",
    "print(a_user.get_optimal_track_pref())\n",
    "a_user.update_track_attr_log(Track(retrieve_track_attr_dict()))\n",
    "print(a_user.get_optimal_track_pref())\n",
    "a_user.update_track_attr_log(Track(retrieve_track_attr_dict()))\n",
    "print(a_user.get_optimal_track_pref())"
   ]
  }
 ]
}