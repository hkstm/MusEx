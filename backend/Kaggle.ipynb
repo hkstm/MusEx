{
 "metadata": {
  "language_info": {
   "codemirror_mode": {
    "name": "ipython",
    "version": 3
   },
   "file_extension": ".py",
   "mimetype": "text/x-python",
   "name": "python",
   "nbconvert_exporter": "python",
   "pygments_lexer": "ipython3",
   "version": "3.8.5-final"
  },
  "orig_nbformat": 2,
  "kernelspec": {
   "name": "other-env2",
   "display_name": "Python (other-env2)",
   "language": "python"
  }
 },
 "nbformat": 4,
 "nbformat_minor": 2,
 "cells": [
  {
   "cell_type": "code",
   "execution_count": null,
   "metadata": {},
   "outputs": [],
   "source": [
    "%load_ext autoreload\n",
    "%autoreload 2\n",
    "from datamodel.Track import Track\n",
    "from datamodel.User import User\n",
    "from mongodb import MongoAccess\n",
    "import pandas as pd\n",
    "import numpy as np\n",
    "import matplotlib.pyplot as plt\n",
    "import seaborn as sns\n",
    "from datetime import datetime\n",
    "import pprint\n",
    "\n",
    "MongoAccess.load_kaggle_csvs_into_mongodb()\n",
    "\n",
    "df_by_genres = pd.DataFrame(MongoAccess.get_collection('data_by_genres'))\n",
    "df_by_year = pd.DataFrame(MongoAccess.get_collection('data_by_year'))\n",
    "df = pd.DataFrame(MongoAccess.get_collection('data'))\n",
    "df_w_genres = pd.DataFrame(MongoAccess.get_collection('data_w_genres'))\n",
    "\n",
    "a_track_id = '3jW3k9jZRHNZfpDxpbAsbn'\n",
    "\n",
    "def retrieve_track_attr_dict(id=None):\n",
    "    if not id: row = df.sample(1).iloc[0]\n",
    "    else: row = df.loc[df['_id'] == id].iloc[0]  # removed duplicates so there is only 1 match\n",
    "    return row.to_dict()"
   ]
  },
  {
   "cell_type": "code",
   "execution_count": null,
   "metadata": {},
   "outputs": [],
   "source": [
    "a_user = User()\n",
    "print(a_user.get_optimal_track_pref())\n",
    "a_user.update_track_attr_log(Track(retrieve_track_attr_dict()))\n",
    "print(a_user.get_optimal_track_pref())\n",
    "a_user.update_track_attr_log(Track(retrieve_track_attr_dict()))\n",
    "print(a_user.get_optimal_track_pref())\n",
    "a_user.update_track_attr_log(Track(retrieve_track_attr_dict()))\n",
    "print(a_user.get_optimal_track_pref())\n",
    "\n",
    "df.head()"
   ]
  }
 ]
}