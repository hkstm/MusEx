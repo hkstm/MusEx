{
 "cells": [
  {
   "cell_type": "code",
   "execution_count": null,
   "metadata": {},
   "outputs": [],
   "source": [
    "%load_ext autoreload\n",
    "%autoreload 2\n",
    "from infovis21.datamodel.Track import Track\n",
    "from infovis21.datamodel.User import User\n",
    "from infovis21.mongodb import MongoAccess as ma\n",
    "import pandas as pd\n",
    "import numpy as np\n",
    "import matplotlib.pyplot as plt\n",
    "from pprint import pprint"
   ]
  },
  {
   "cell_type": "code",
   "execution_count": null,
   "metadata": {},
   "outputs": [],
   "source": [
    "# # I know the without is a bit redundant as we could just use the total size of the collection which would be faster but it's also a sanity check for the edge case values of genres\n",
    "\n",
    "# pipeline_with_genre = [\n",
    "#     {'$set': {'n_of_genres': {'$size' : {'$ifNull': [ \"$genres\", [] ]}} } },\n",
    "#     {'$match': {'n_of_genres': {'$gt': 0}}}\n",
    "# ]\n",
    "# res_with_genre = list(ma.coll_artists.aggregate(pipeline_with_genre))\n",
    "# print(f'With genre info in artists {len(res_with_genre)}')\n",
    "\n",
    "# pipeline_without_genre = [\n",
    "#     {'$set': {'n_of_genres': {'$size' : {'$ifNull': [ \"$genres\", [] ]}} } },\n",
    "#     {'$match': {'n_of_genres': {'$eq': 0}}}\n",
    "# ]\n",
    "# res_without_genre = list(ma.coll_artists.aggregate(pipeline_without_genre))\n",
    "# print(f'Without genre info in artists {len(res_without_genre)}')\n",
    "\n",
    "# res_with_genre = list(ma.coll_tracks.aggregate(pipeline_with_genre))\n",
    "# print(f'With genre info in tracks {len(res_with_genre)}')\n",
    "# res_without_genre = list(ma.coll_tracks.aggregate(pipeline_without_genre))\n",
    "# print(f'Without genre info in tracks {len(res_without_genre)}')\n",
    "\n",
    "\n",
    "df_genres = pd.DataFrame(ma.get_collection(ma.coll_genres))"
   ]
  },
  {
   "cell_type": "code",
   "execution_count": null,
   "metadata": {},
   "outputs": [],
   "source": [
    "from sklearn.cluster import KMeans\n",
    "import matplotlib.pyplot as plt\n",
    "from sklearn.model_selection import train_test_split\n",
    "import pandas as pd\n",
    "import numpy as np\n",
    "import sklearn\n",
    "from sklearn.preprocessing import minmax_scale\n",
    "import os\n",
    "\n",
    "\n",
    "# from sklearn.metrics import precision_score, recall_score, precision_recall_curve,f1_score, fbeta_score\n",
    "\n",
    "# dataframe = pd.read_csv(\"/Users/simontokloth/Documents/data/data_by_genres.csv\")\n",
    "\n",
    "df = df_genres.drop(['labels', 'preview_url', 'id', 'name', 'genres', 'duration_ms', 'popularity'], axis=1)"
   ]
  },
  {
   "cell_type": "code",
   "execution_count": null,
   "metadata": {},
   "outputs": [],
   "source": [
    "from sklearn.cluster import KMeans\n",
    "Kmean = KMeans(n_clusters=11, init='k-means++', n_init=10, max_iter=300, tol=0.0001, precompute_distances='auto', verbose=0, random_state=None, copy_x=True, n_jobs=None, algorithm='auto')\n",
    "Kmean.fit(df)"
   ]
  },
  {
   "cell_type": "code",
   "execution_count": null,
   "metadata": {},
   "outputs": [],
   "source": [
    "df['label'] = pd.DataFrame(Kmean.labels_)\n",
    "\n",
    "df = pd.concat([df_genres.genres, df],axis=1)"
   ]
  },
  {
   "cell_type": "code",
   "execution_count": null,
   "metadata": {},
   "outputs": [],
   "source": [
    "# to check what's in each bin\n",
    "\n",
    "df.loc[df['label'] == 0]"
   ]
  },
  {
   "cell_type": "code",
   "execution_count": null,
   "metadata": {},
   "outputs": [],
   "source": [
    "# labeling of main genre based on genres \n",
    "\n",
    "df.label = df.label.replace(0, \"Pop\")\n",
    "\n",
    "df.label = df.label.replace(1, \"Classical\")\n",
    " \n",
    "df.label = df.label.replace(2, \"Jazz\")\n",
    "\n",
    "df.label = df.label.replace(3, \"Reggae\")\n",
    "\n",
    "df.label = df.label.replace(4, \"Country\")\n",
    "\n",
    "df.label = df.label.replace(5, \"Rock\")\n",
    "\n",
    "df.label = df.label.replace(6, \"Electronic\")\n",
    "\n",
    "df.label = df.label.replace(7, \"Blues\")\n",
    "\n",
    "df.label = df.label.replace(8, \"Electronic\")\n",
    "\n",
    "df.label = df.label.replace(9, \"Hiphop\")\n",
    "\n",
    "df.label = df.label.replace(10, \"Classical\")"
   ]
  },
  {
   "cell_type": "code",
   "execution_count": null,
   "metadata": {},
   "outputs": [],
   "source": []
  },
  {
   "cell_type": "code",
   "execution_count": null,
   "metadata": {},
   "outputs": [],
   "source": [
    "# replace colors with suitable color code\n",
    "def label_color(df):\n",
    "    if df['label'] == \"Classical\" :\n",
    "        return '#212F3D'\n",
    "    if df['label'] == \"Electronic\":\n",
    "        return '#FF5733'\n",
    "    if df['label'] == \"Jazz\" :\n",
    "        return '#FFE033'\n",
    "    if df['label'] == \"Hiphop\":\n",
    "        return 'color'\n",
    "    if df['label'] == \"Blues\":\n",
    "        return 'color'\n",
    "    if df['label'] == \"Rock\":\n",
    "        return 'color'\n",
    "    if df['label'] == \"Pop\":\n",
    "        return 'color'\n",
    "    if df['label'] == \"Country\":\n",
    "        return 'color'\n",
    "    if df['label'] == \"Reggae\":\n",
    "        return '#D733F'\n"
   ]
  },
  {
   "cell_type": "code",
   "execution_count": null,
   "metadata": {},
   "outputs": [],
   "source": [
    "df['label_color'] = df.apply(label_color, axis=1)"
   ]
  }
 ],
 "metadata": {
  "kernelspec": {
   "display_name": "Python 3",
   "language": "python",
   "name": "python3"
  },
  "language_info": {
   "codemirror_mode": {
    "name": "ipython",
    "version": 3
   },
   "file_extension": ".py",
   "mimetype": "text/x-python",
   "name": "python",
   "nbconvert_exporter": "python",
   "pygments_lexer": "ipython3",
   "version": "3.7.4"
  }
 },
 "nbformat": 4,
 "nbformat_minor": 4
}