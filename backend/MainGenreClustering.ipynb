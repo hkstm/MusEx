{
 "cells": [
  {
   "cell_type": "code",
   "execution_count": null,
   "metadata": {
    "pycharm": {
     "is_executing": true
    }
   },
   "outputs": [],
   "source": [
    "%load_ext autoreload\n",
    "%autoreload 2\n",
    "from infovis21.datamodel.Track import Track\n",
    "from infovis21.datamodel.User import User\n",
    "from infovis21.mongodb import MongoAccess as ma\n",
    "import pandas as pd\n",
    "import numpy as np\n",
    "import matplotlib.pyplot as plt\n",
    "from pprint import pprint"
   ]
  },
  {
   "cell_type": "code",
   "execution_count": null,
   "metadata": {
    "pycharm": {
     "is_executing": true,
     "name": "#%% data retrieval\n"
    }
   },
   "outputs": [],
   "source": [
    "df_genres = pd.DataFrame(ma.get_collection(ma.coll_genres))"
   ]
  },
  {
   "cell_type": "code",
   "execution_count": null,
   "metadata": {
    "pycharm": {
     "is_executing": true
    }
   },
   "outputs": [],
   "source": [
    "from sklearn.cluster import KMeans\n",
    "import matplotlib.pyplot as plt\n",
    "from sklearn.model_selection import train_test_split\n",
    "import pandas as pd\n",
    "import numpy as np\n",
    "import sklearn\n",
    "from sklearn.preprocessing import MinMaxScaler\n",
    "import os\n",
    "\n",
    "df = df_genres.drop(['labels', 'preview_url', 'id', 'name', 'energy', 'tempo', 'key', 'mode', 'genres', 'loudness', 'liveness', 'year', 'duration_ms', 'popularity'], axis=1)"
   ]
  },
  {
   "cell_type": "code",
   "execution_count": null,
   "metadata": {
    "pycharm": {
     "is_executing": true
    }
   },
   "outputs": [],
   "source": [
    "# run K-Means Clustering\n",
    "\n",
    "from sklearn.cluster import KMeans\n",
    "Kmean = KMeans(n_clusters=11, init='k-means++', n_init=15, max_iter=300, tol=0.0001, precompute_distances='auto', verbose=0, random_state=None, copy_x=True, n_jobs=None, algorithm='auto')\n",
    "Kmean.fit(df)"
   ]
  },
  {
   "cell_type": "code",
   "execution_count": null,
   "metadata": {
    "pycharm": {
     "is_executing": true
    }
   },
   "outputs": [],
   "source": [
    "df['label'] = pd.DataFrame(Kmean.labels_)\n",
    "\n",
    "df = pd.concat([df_genres.genres, df],axis=1)"
   ]
  },
  {
   "cell_type": "code",
   "execution_count": null,
   "metadata": {
    "pycharm": {
     "is_executing": true
    },
    "scrolled": false
   },
   "outputs": [],
   "source": [
    "# to check what's in each bin\n",
    "\n",
    "# df.loc[df['label'] == 0]"
   ]
  },
  {
   "cell_type": "code",
   "execution_count": null,
   "metadata": {
    "pycharm": {
     "is_executing": true
    }
   },
   "outputs": [],
   "source": [
    "# labeling of main genre based on genres \n",
    "\n",
    "df.label = df.label.replace(0, \"Electronic\") #middle dance, low instrumentalness, lower speechiness, medium valence, low acousticness\n",
    "\n",
    "df.label = df.label.replace(1, \"Pop\") #middle dance, low to middle instrumentalness, low to middle speechiness, medium valence, high accoustincess\n",
    " \n",
    "df.label = df.label.replace(2, \"Hiphop\") # high dance, low to middle instrumental, low speechiness, medium to high valence, low acoustincess\n",
    "\n",
    "df.label = df.label.replace(3, \"Classical\") # low to medium dance, low to medium instru, low speechiness, medium to high valence, low acoustincess\n",
    "\n",
    "df.label = df.label.replace(4, \"Pop\") \n",
    "\n",
    "df.label = df.label.replace(5, \"Rock\")\n",
    "\n",
    "df.label = df.label.replace(6, \"Indie\")\n",
    "\n",
    "df.label = df.label.replace(7, \"Indie\")\n",
    "\n",
    "df.label = df.label.replace(8, \"Rock\")\n",
    "\n",
    "df.label = df.label.replace(9, \"Hiphop\") #hiphop\n",
    "\n",
    "df.label = df.label.replace(10, \"Pop\")\n",
    "\n"
   ]
  },
  {
   "cell_type": "code",
   "execution_count": null,
   "metadata": {
    "pycharm": {
     "is_executing": true
    }
   },
   "outputs": [],
   "source": [
    "# replace colors with suitable color code\n",
    "def label_color(df):\n",
    "    if df['label'] == \"Classical\" :\n",
    "        return '#9370db' # purple\n",
    "    if df['label'] == \"Electronic\":\n",
    "        return '#32cd32' # green\n",
    "    if df['label'] == \"Hiphop\":\n",
    "        return '#ffbf00' # orange \n",
    "    if df['label'] == \"Rock\":\n",
    "        return '#ff0000' # red\n",
    "    if df['label'] == \"Pop\":\n",
    "        return '#ff69b4' # pink\n",
    "    if df['label'] == \"Indie\":\n",
    "        return '#1e90ff' # blue"
   ]
  },
  {
   "cell_type": "code",
   "execution_count": null,
   "metadata": {
    "pycharm": {
     "is_executing": true
    }
   },
   "outputs": [],
   "source": [
    "df['label_color'] = df.apply(label_color, axis=1)"
   ]
  }
 ],
 "metadata": {
  "kernelspec": {
   "display_name": "Python 3",
   "language": "python",
   "name": "python3"
  },
  "language_info": {
   "codemirror_mode": {
    "name": "ipython",
    "version": 3
   },
   "file_extension": ".py",
   "mimetype": "text/x-python",
   "name": "python",
   "nbconvert_exporter": "python",
   "pygments_lexer": "ipython3",
   "version": "3.7.4"
  }
 },
 "nbformat": 4,
 "nbformat_minor": 4
}