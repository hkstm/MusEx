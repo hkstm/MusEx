{
 "cells": [
  {
   "cell_type": "code",
   "execution_count": 1,
   "metadata": {},
   "outputs": [
    {
     "ename": "ModuleNotFoundError",
     "evalue": "No module named 'flask'",
     "output_type": "error",
     "traceback": [
      "\u001B[0;31m---------------------------------------------------------------------------\u001B[0m",
      "\u001B[0;31mModuleNotFoundError\u001B[0m                       Traceback (most recent call last)",
      "\u001B[0;32m<ipython-input-1-79875c95cc24>\u001B[0m in \u001B[0;36m<module>\u001B[0;34m\u001B[0m\n\u001B[1;32m      1\u001B[0m \u001B[0mget_ipython\u001B[0m\u001B[0;34m(\u001B[0m\u001B[0;34m)\u001B[0m\u001B[0;34m.\u001B[0m\u001B[0mrun_line_magic\u001B[0m\u001B[0;34m(\u001B[0m\u001B[0;34m'load_ext'\u001B[0m\u001B[0;34m,\u001B[0m \u001B[0;34m'autoreload'\u001B[0m\u001B[0;34m)\u001B[0m\u001B[0;34m\u001B[0m\u001B[0;34m\u001B[0m\u001B[0m\n\u001B[1;32m      2\u001B[0m \u001B[0mget_ipython\u001B[0m\u001B[0;34m(\u001B[0m\u001B[0;34m)\u001B[0m\u001B[0;34m.\u001B[0m\u001B[0mrun_line_magic\u001B[0m\u001B[0;34m(\u001B[0m\u001B[0;34m'autoreload'\u001B[0m\u001B[0;34m,\u001B[0m \u001B[0;34m'2'\u001B[0m\u001B[0;34m)\u001B[0m\u001B[0;34m\u001B[0m\u001B[0;34m\u001B[0m\u001B[0m\n\u001B[0;32m----> 3\u001B[0;31m \u001B[0;32mfrom\u001B[0m \u001B[0minfovis21\u001B[0m\u001B[0;34m.\u001B[0m\u001B[0mdatamodel\u001B[0m\u001B[0;34m.\u001B[0m\u001B[0mTrack\u001B[0m \u001B[0;32mimport\u001B[0m \u001B[0mTrack\u001B[0m\u001B[0;34m\u001B[0m\u001B[0;34m\u001B[0m\u001B[0m\n\u001B[0m\u001B[1;32m      4\u001B[0m \u001B[0;32mfrom\u001B[0m \u001B[0minfovis21\u001B[0m\u001B[0;34m.\u001B[0m\u001B[0mdatamodel\u001B[0m\u001B[0;34m.\u001B[0m\u001B[0mUser\u001B[0m \u001B[0;32mimport\u001B[0m \u001B[0mUser\u001B[0m\u001B[0;34m\u001B[0m\u001B[0;34m\u001B[0m\u001B[0m\n\u001B[1;32m      5\u001B[0m \u001B[0;32mfrom\u001B[0m \u001B[0minfovis21\u001B[0m\u001B[0;34m.\u001B[0m\u001B[0mmongodb\u001B[0m \u001B[0;32mimport\u001B[0m \u001B[0mMongoAccess\u001B[0m \u001B[0;32mas\u001B[0m \u001B[0mma\u001B[0m\u001B[0;34m\u001B[0m\u001B[0;34m\u001B[0m\u001B[0m\n",
      "\u001B[0;32m~/VU.InfoVis2021/backend/infovis21/__init__.py\u001B[0m in \u001B[0;36m<module>\u001B[0;34m\u001B[0m\n\u001B[1;32m      2\u001B[0m \u001B[0;34m\u001B[0m\u001B[0m\n\u001B[1;32m      3\u001B[0m \u001B[0;34m\"\"\"Top-level package for favico.\"\"\"\u001B[0m\u001B[0;34m\u001B[0m\u001B[0;34m\u001B[0m\u001B[0m\n\u001B[0;32m----> 4\u001B[0;31m \u001B[0;32mfrom\u001B[0m \u001B[0minfovis21\u001B[0m \u001B[0;32mimport\u001B[0m \u001B[0mviews\u001B[0m \u001B[0;32mas\u001B[0m \u001B[0m_views\u001B[0m\u001B[0;34m\u001B[0m\u001B[0;34m\u001B[0m\u001B[0m\n\u001B[0m\u001B[1;32m      5\u001B[0m \u001B[0;34m\u001B[0m\u001B[0m\n\u001B[1;32m      6\u001B[0m \u001B[0m__author__\u001B[0m \u001B[0;34m=\u001B[0m \u001B[0;34m\"\"\"group14\"\"\"\u001B[0m\u001B[0;34m\u001B[0m\u001B[0;34m\u001B[0m\u001B[0m\n",
      "\u001B[0;32m~/VU.InfoVis2021/backend/infovis21/views.py\u001B[0m in \u001B[0;36m<module>\u001B[0;34m\u001B[0m\n\u001B[1;32m      7\u001B[0m \u001B[0;34m\u001B[0m\u001B[0m\n\u001B[1;32m      8\u001B[0m \u001B[0;32mimport\u001B[0m \u001B[0mnumpy\u001B[0m \u001B[0;32mas\u001B[0m \u001B[0mnp\u001B[0m\u001B[0;34m\u001B[0m\u001B[0;34m\u001B[0m\u001B[0m\n\u001B[0;32m----> 9\u001B[0;31m \u001B[0;32mfrom\u001B[0m \u001B[0mflask\u001B[0m \u001B[0;32mimport\u001B[0m \u001B[0mabort\u001B[0m\u001B[0;34m,\u001B[0m \u001B[0mjsonify\u001B[0m\u001B[0;34m,\u001B[0m \u001B[0mrequest\u001B[0m\u001B[0;34m\u001B[0m\u001B[0;34m\u001B[0m\u001B[0m\n\u001B[0m\u001B[1;32m     10\u001B[0m \u001B[0;32mfrom\u001B[0m \u001B[0mflask_cors\u001B[0m \u001B[0;32mimport\u001B[0m \u001B[0mcross_origin\u001B[0m\u001B[0;34m\u001B[0m\u001B[0;34m\u001B[0m\u001B[0m\n\u001B[1;32m     11\u001B[0m \u001B[0;32mfrom\u001B[0m \u001B[0msklearn\u001B[0m\u001B[0;34m.\u001B[0m\u001B[0mmetrics\u001B[0m\u001B[0;34m.\u001B[0m\u001B[0mpairwise\u001B[0m \u001B[0;32mimport\u001B[0m \u001B[0mcosine_similarity\u001B[0m\u001B[0;34m\u001B[0m\u001B[0;34m\u001B[0m\u001B[0m\n",
      "\u001B[0;31mModuleNotFoundError\u001B[0m: No module named 'flask'"
     ]
    }
   ],
   "source": [
    "%load_ext autoreload\n",
    "%autoreload 2\n",
    "from infovis21.datamodel.Track import Track\n",
    "from infovis21.datamodel.User import User\n",
    "from infovis21.mongodb import MongoAccess as ma\n",
    "import pandas as pd\n",
    "import numpy as np\n",
    "import matplotlib.pyplot as plt\n",
    "from pprint import pprint"
   ]
  },
  {
   "cell_type": "code",
   "execution_count": null,
   "metadata": {},
   "outputs": [],
   "source": [
    "# # I know the without is a bit redundant as we could just use the total size of the collection which would be faster but it's also a sanity check for the edge case values of genres\n",
    "\n",
    "# pipeline_with_genre = [\n",
    "#     {'$set': {'n_of_genres': {'$size' : {'$ifNull': [ \"$genres\", [] ]}} } },\n",
    "#     {'$match': {'n_of_genres': {'$gt': 0}}}\n",
    "# ]\n",
    "# res_with_genre = list(ma.coll_artists.aggregate(pipeline_with_genre))\n",
    "# print(f'With genre info in artists {len(res_with_genre)}')\n",
    "\n",
    "# pipeline_without_genre = [\n",
    "#     {'$set': {'n_of_genres': {'$size' : {'$ifNull': [ \"$genres\", [] ]}} } },\n",
    "#     {'$match': {'n_of_genres': {'$eq': 0}}}\n",
    "# ]\n",
    "# res_without_genre = list(ma.coll_artists.aggregate(pipeline_without_genre))\n",
    "# print(f'Without genre info in artists {len(res_without_genre)}')\n",
    "\n",
    "# res_with_genre = list(ma.coll_tracks.aggregate(pipeline_with_genre))\n",
    "# print(f'With genre info in tracks {len(res_with_genre)}')\n",
    "# res_without_genre = list(ma.coll_tracks.aggregate(pipeline_without_genre))\n",
    "# print(f'Without genre info in tracks {len(res_without_genre)}')\n",
    "\n",
    "\n",
    "df_genres = pd.DataFrame(ma.get_collection(ma.coll_genres))"
   ]
  },
  {
   "cell_type": "code",
   "execution_count": null,
   "metadata": {},
   "outputs": [],
   "source": [
    "from sklearn.cluster import KMeans\n",
    "import matplotlib.pyplot as plt\n",
    "from sklearn.model_selection import train_test_split\n",
    "import pandas as pd\n",
    "import numpy as np\n",
    "import sklearn\n",
    "from sklearn.preprocessing import minmax_scale\n",
    "import os\n",
    "\n",
    "# from sklearn.metrics import precision_score, recall_score, precision_recall_curve,f1_score, fbeta_score\n",
    "\n",
    "df = df_genres.drop(['genres', 'duration_ms', 'popularity'], axis=1)"
   ]
  },
  {
   "cell_type": "code",
   "execution_count": null,
   "metadata": {},
   "outputs": [],
   "source": [
    "# unsupervised learning to group similar subgenres together; n_clusters = number of genres\n",
    "\n",
    "from sklearn.cluster import KMeans\n",
    "Kmean = KMeans(n_clusters=11, init='k-means++', n_init=10, max_iter=300, tol=0.0001, precompute_distances='auto', verbose=0, random_state=None, copy_x=True, n_jobs=None, algorithm='auto')\n",
    "Kmean.fit(df)"
   ]
  },
  {
   "cell_type": "code",
   "execution_count": null,
   "metadata": {},
   "outputs": [],
   "source": [
    "df['label'] = pd.DataFrame(Kmean.labels_)\n",
    "\n",
    "df = pd.concat([df_genres.genres, df],axis=1)"
   ]
  },
  {
   "cell_type": "code",
   "execution_count": null,
   "metadata": {},
   "outputs": [],
   "source": [
    "# labeling of main genre based on genres \n",
    "\n",
    "df.label = df.label.replace(0, \"Pop\")\n",
    "\n",
    "df.label = df.label.replace(1, \"Classical\")\n",
    " \n",
    "df.label = df.label.replace(2, \"Jazz\")\n",
    "\n",
    "df.label = df.label.replace(3, \"Reggae\")\n",
    "\n",
    "df.label = df.label.replace(4, \"Country\")\n",
    "\n",
    "df.label = df.label.replace(5, \"Rock\")\n",
    "\n",
    "df.label = df.label.replace(6, \"Electronic\")\n",
    "\n",
    "df.label = df.label.replace(7, \"Blues\")\n",
    "\n",
    "df.label = df.label.replace(8, \"Electronic\")\n",
    "\n",
    "df.label = df.label.replace(9, \"Hiphop\")\n",
    "\n",
    "df.label = df.label.replace(10, \"Classical\")\n"
   ]
  },
  {
   "cell_type": "code",
   "execution_count": null,
   "outputs": [],
   "source": [
    "# picking color for each genre.\n",
    "\n",
    "def label_color(df):\n",
    "    if df['label'] == \"Classical\" :\n",
    "        return '#212F3D'\n",
    "    if df['label'] == \"Electronic\":\n",
    "        return '#FF5733'\n",
    "    if df['label'] == \"Jazz\" :\n",
    "        return '#FFE033'\n",
    "    if df['label'] == \"Hiphop\":\n",
    "        return '#2ECC71'\n",
    "    if df['label'] == \"Blues\":\n",
    "        return '#3364FF'\n",
    "    if df['label'] == \"Rock\":\n",
    "        return '#C367D9'\n",
    "    if df['label'] == \"Pop\":\n",
    "        return '#E74C3C'\n",
    "    if df['label'] == \"Country\":\n",
    "        return '#935116'\n",
    "    if df['label'] == \"Reggae\":\n",
    "        return '#FDFEFE'"
   ],
   "metadata": {
    "collapsed": false,
    "pycharm": {
     "name": "#%%\n"
    }
   }
  },
  {
   "cell_type": "code",
   "execution_count": null,
   "outputs": [],
   "source": [
    "# applies new row for color codes for each genre\n",
    "df['label_color'] = df.apply(label_color, axis=1)"
   ],
   "metadata": {
    "collapsed": false,
    "pycharm": {
     "name": "#%%\n"
    }
   }
  }
 ],
 "metadata": {
  "kernelspec": {
   "display_name": "Python 3",
   "language": "python",
   "name": "python3"
  },
  "language_info": {
   "codemirror_mode": {
    "name": "ipython",
    "version": 3
   },
   "file_extension": ".py",
   "mimetype": "text/x-python",
   "name": "python",
   "nbconvert_exporter": "python",
   "pygments_lexer": "ipython3",
   "version": "3.7.5"
  }
 },
 "nbformat": 4,
 "nbformat_minor": 4
}