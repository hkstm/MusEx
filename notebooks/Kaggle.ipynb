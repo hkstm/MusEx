{
 "metadata": {
  "language_info": {
   "codemirror_mode": {
    "name": "ipython",
    "version": 3
   },
   "file_extension": ".py",
   "mimetype": "text/x-python",
   "name": "python",
   "nbconvert_exporter": "python",
   "pygments_lexer": "ipython3",
   "version": "3.8.5-final"
  },
  "orig_nbformat": 2,
  "kernelspec": {
   "name": "other-env2",
   "display_name": "Python (other-env2)",
   "language": "python"
  }
 },
 "nbformat": 4,
 "nbformat_minor": 2,
 "cells": [
  {
   "cell_type": "code",
   "execution_count": null,
   "metadata": {},
   "outputs": [],
   "source": [
    "import pandas as pd\n",
    "import numpy as np\n",
    "import matplotlib.pyplot as plt\n",
    "import seaborn as sns\n",
    "\n",
    "df_by_artist = pd.read_csv('../data/kaggle/data_by_artist.csv')\n",
    "df_by_genres = pd.read_csv('../data/kaggle/data_by_genres.csv')\n",
    "df_by_year = pd.read_csv('../data/kaggle/data_by_year.csv')\n",
    "df = pd.read_csv('../data/kaggle/data.csv')\n",
    "df_w_genres = pd.read_csv('../data/kaggle/data_w_genres.csv')"
   ]
  },
  {
   "cell_type": "code",
   "execution_count": null,
   "metadata": {},
   "outputs": [],
   "source": [
    "df.head()"
   ]
  }
 ]
}